{
  "nbformat": 4,
  "nbformat_minor": 0,
  "metadata": {
    "colab": {
      "provenance": [],
      "collapsed_sections": [],
      "authorship_tag": "ABX9TyNA36OKzE8HVjo5Q+9irHD1",
      "include_colab_link": true
    },
    "kernelspec": {
      "name": "python3",
      "display_name": "Python 3"
    },
    "language_info": {
      "name": "python"
    }
  },
  "cells": [
    {
      "cell_type": "markdown",
      "metadata": {
        "id": "view-in-github",
        "colab_type": "text"
      },
      "source": [
        "<a href=\"https://colab.research.google.com/github/aimlresearcher/Python-Pandas/blob/main/pandas_series_lec01.ipynb\" target=\"_parent\"><img src=\"https://colab.research.google.com/assets/colab-badge.svg\" alt=\"Open In Colab\"/></a>"
      ]
    },
    {
      "cell_type": "code",
      "source": [
        "import numpy as np\n",
        "import pandas as pd"
      ],
      "metadata": {
        "id": "Ckwsm8NZv9IJ"
      },
      "execution_count": 2,
      "outputs": []
    },
    {
      "cell_type": "markdown",
      "source": [
        "### Create Python Pandas Series Series"
      ],
      "metadata": {
        "id": "XskfrS-Guq-4"
      }
    },
    {
      "cell_type": "code",
      "execution_count": 3,
      "metadata": {
        "colab": {
          "base_uri": "https://localhost:8080/"
        },
        "id": "M0-TwSoZuab1",
        "outputId": "9ac0f66b-e270-459c-d124-ccb3e734ace6"
      },
      "outputs": [
        {
          "output_type": "execute_result",
          "data": {
            "text/plain": [
              "list"
            ]
          },
          "metadata": {},
          "execution_count": 3
        }
      ],
      "source": [
        "data = ['one', 'two', 'three', 'four', 'five']\n",
        "type(data)"
      ]
    },
    {
      "cell_type": "code",
      "source": [
        "data"
      ],
      "metadata": {
        "id": "HTJX0QtRwcb0",
        "outputId": "c1f2e709-0729-429b-b400-a0b3144bbc96",
        "colab": {
          "base_uri": "https://localhost:8080/"
        }
      },
      "execution_count": 4,
      "outputs": [
        {
          "output_type": "execute_result",
          "data": {
            "text/plain": [
              "['one', 'two', 'three', 'four', 'five']"
            ]
          },
          "metadata": {},
          "execution_count": 4
        }
      ]
    },
    {
      "cell_type": "code",
      "source": [
        "pandas_series = pd.Series(data)\n",
        "type(pandas_series)"
      ],
      "metadata": {
        "id": "vSiL57GsvAsT",
        "outputId": "9485dcc2-0f60-43e4-a804-42c220e373d8",
        "colab": {
          "base_uri": "https://localhost:8080/"
        }
      },
      "execution_count": 6,
      "outputs": [
        {
          "output_type": "execute_result",
          "data": {
            "text/plain": [
              "pandas.core.series.Series"
            ]
          },
          "metadata": {},
          "execution_count": 6
        }
      ]
    },
    {
      "cell_type": "code",
      "source": [
        "pandas_series"
      ],
      "metadata": {
        "id": "6SQtEQ0Twffg",
        "outputId": "104ecbc5-3bb8-4a2a-bbab-2dd98c641b26",
        "colab": {
          "base_uri": "https://localhost:8080/"
        }
      },
      "execution_count": 7,
      "outputs": [
        {
          "output_type": "execute_result",
          "data": {
            "text/plain": [
              "0      one\n",
              "1      two\n",
              "2    three\n",
              "3     four\n",
              "4     five\n",
              "dtype: object"
            ]
          },
          "metadata": {},
          "execution_count": 7
        }
      ]
    },
    {
      "cell_type": "markdown",
      "source": [
        "### Index"
      ],
      "metadata": {
        "id": "VC38EC2Mw9Vy"
      }
    },
    {
      "cell_type": "code",
      "source": [
        "data = ['one', 'two', 'three', 'four', 'five']\n",
        "pandas_series = pd.Series(data, index = [1, 2, 3, 4, 5])\n",
        "pandas_series"
      ],
      "metadata": {
        "id": "H7Etqn2EwkZ4",
        "outputId": "3603e565-5b77-4695-e07e-d5f7f979d07c",
        "colab": {
          "base_uri": "https://localhost:8080/"
        }
      },
      "execution_count": 8,
      "outputs": [
        {
          "output_type": "execute_result",
          "data": {
            "text/plain": [
              "1      one\n",
              "2      two\n",
              "3    three\n",
              "4     four\n",
              "5     five\n",
              "dtype: object"
            ]
          },
          "metadata": {},
          "execution_count": 8
        }
      ]
    },
    {
      "cell_type": "code",
      "source": [
        "dictionary = {1:'one', 2:'two', 3:'three', 4:'four', 5:'five'}\n",
        "pandas_series = pd.Series(dictionary)\n",
        "pandas_series"
      ],
      "metadata": {
        "id": "rvZQxW_IxXh2",
        "outputId": "7d8e1357-6c28-41e2-b4f4-3478d496deb3",
        "colab": {
          "base_uri": "https://localhost:8080/"
        }
      },
      "execution_count": 9,
      "outputs": [
        {
          "output_type": "execute_result",
          "data": {
            "text/plain": [
              "1      one\n",
              "2      two\n",
              "3    three\n",
              "4     four\n",
              "5     five\n",
              "dtype: object"
            ]
          },
          "metadata": {},
          "execution_count": 9
        }
      ]
    },
    {
      "cell_type": "code",
      "source": [
        "dictionary = {'one':1, 'two':2, 'three':3, 'four':4, 'five':5}\n",
        "pandas_series = pd.Series(dictionary)\n",
        "pandas_series"
      ],
      "metadata": {
        "id": "7Po-zEQJyc54",
        "outputId": "1feaac0c-c087-4379-e505-8bde1ea3e4f2",
        "colab": {
          "base_uri": "https://localhost:8080/"
        }
      },
      "execution_count": 10,
      "outputs": [
        {
          "output_type": "execute_result",
          "data": {
            "text/plain": [
              "one      1\n",
              "two      2\n",
              "three    3\n",
              "four     4\n",
              "five     5\n",
              "dtype: int64"
            ]
          },
          "metadata": {},
          "execution_count": 10
        }
      ]
    },
    {
      "cell_type": "code",
      "source": [],
      "metadata": {
        "id": "VrNmKOKNyxNI"
      },
      "execution_count": null,
      "outputs": []
    }
  ]
}